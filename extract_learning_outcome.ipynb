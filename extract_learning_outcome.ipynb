{
 "cells": [
  {
   "cell_type": "code",
   "execution_count": 14,
   "metadata": {},
   "outputs": [],
   "source": [
    "import json"
   ]
  },
  {
   "cell_type": "code",
   "execution_count": 32,
   "metadata": {},
   "outputs": [],
   "source": [
    "data_list = []\n",
    "\n",
    "with open('sample_syllabus.json') as file:\n",
    "    for line in file:\n",
    "        try:\n",
    "                # Parse the line as a JSON object and append it to the list\n",
    "            data = json.loads(line)\n",
    "            data_list.append(data)\n",
    "        except json.JSONDecodeError as e:\n",
    "            print(f\"Error parsing JSON: {e}\")\n",
    "    \n",
    "# load first json file\n",
    "json_file = data_list"
   ]
  },
  {
   "cell_type": "code",
   "execution_count": 42,
   "metadata": {},
   "outputs": [
    {
     "data": {
      "text/plain": [
       "[{'text': 'Students will be able to analyze a given repair job and choose the correct chemicals and additives needed for the job based on weather conditions, job scope, job budget, and job deadline.',\n",
       "  'mean_proba': 0.99233806,\n",
       "  'ci1': 3248,\n",
       "  'ci2': 3434,\n",
       "  'ti1': 304,\n",
       "  'ti2': 340},\n",
       " {'text': 'Students will be able to set up, operate, and shut down a spray booth according to outside temperature and humidity, and the vehicle job and chemicals being sprayed.',\n",
       "  'mean_proba': 0.9935266,\n",
       "  'ci1': 3489,\n",
       "  'ci2': 3653,\n",
       "  'ti1': 343,\n",
       "  'ti2': 374},\n",
       " {'text': 'Students will be able to retrieve a vehicle’s color code and formula information, select the correct quantity for the job, and correctly pour the toners to create the paint.',\n",
       "  'mean_proba': 0.9838313,\n",
       "  'ci1': 3708,\n",
       "  'ci2': 3880,\n",
       "  'ti1': 377,\n",
       "  'ti2': 411},\n",
       " {'text': 'Locate and identify the parts of an HVLP gravity feed spray gun.',\n",
       "  'mean_proba': 0.5793816,\n",
       "  'ci1': 13301,\n",
       "  'ci2': 13364,\n",
       "  'ti1': 1589,\n",
       "  'ti2': 1603}]"
      ]
     },
     "execution_count": 42,
     "metadata": {},
     "output_type": "execute_result"
    }
   ],
   "source": [
    "json_file[1][\"extracted_sections\"]['learning_outcomes']\n",
    "\n",
    "# Extract only the \"text\" values\n",
    "text_values = [item['text'] for item in json_file[1][\"extracted_sections\"]['learning_outcomes']]\n",
    "\n",
    "# Print the extracted \"text\" values\n",
    "for text in text_values:\n",
    "    print(text)"
   ]
  },
  {
   "cell_type": "code",
   "execution_count": 109,
   "metadata": {},
   "outputs": [],
   "source": [
    "import pandas as pd\n",
    "\n",
    "# Initialize an empty DataFrame\n",
    "data = pd.DataFrame(columns=['Course', 'Learning Outcome', 'Label'])"
   ]
  },
  {
   "cell_type": "code",
   "execution_count": 110,
   "metadata": {},
   "outputs": [
    {
     "name": "stdout",
     "output_type": "stream",
     "text": [
      "        Course                                   Learning Outcome Label\n",
      "0     Course 1  Students will be able to analyze a given repai...      \n",
      "1     Course 1  Students will be able to set up, operate, and ...      \n",
      "2     Course 1  Students will be able to retrieve a vehicle’s ...      \n",
      "3     Course 1  Locate and identify the parts of an HVLP gravi...      \n",
      "4     Course 2  Calculate voltage, current, power and torque i...      \n",
      "..         ...                                                ...   ...\n",
      "124  Course 19  Describe and explain the biological, cognitive...      \n",
      "125  Course 19  Critically examine such topics as self-identit...      \n",
      "126  Course 19  Demonstrate high quality written and/or oral c...      \n",
      "127  Course 19  Explain why the study and understanding of ado...      \n",
      "128  Course 19  Identify public policy that influences the liv...      \n",
      "\n",
      "[129 rows x 3 columns]\n"
     ]
    },
    {
     "name": "stderr",
     "output_type": "stream",
     "text": [
      "/var/folders/ph/t4l1th013yd9kmpbmr4kcljw0000gn/T/ipykernel_27326/3214427515.py:18: FutureWarning: The frame.append method is deprecated and will be removed from pandas in a future version. Use pandas.concat instead.\n",
      "  data = data.append(pd.DataFrame(data_dict), ignore_index=True)\n"
     ]
    }
   ],
   "source": [
    "# Replace this loop with the appropriate range and course names\n",
    "for i in range(1, 21):\n",
    "    course_name = f'Course {i}'  # Change this to match your course naming convention\n",
    "    # Check if the index exists in json_file\n",
    "    if i in range(1, 20):\n",
    "        learning_outcomes = json_file[i][\"extracted_sections\"].get('learning_outcomes', [])\n",
    "        # Extract only the \"text\" values\n",
    "        text_values = [item['text'] for item in learning_outcomes]\n",
    "\n",
    "        # Create a dictionary with the course, learning outcomes, and the other column (leave it blank for now)\n",
    "        data_dict = {\n",
    "            'Course': [course_name] * len(text_values),\n",
    "            'Learning Outcome': text_values,\n",
    "            'Label': [''] * len(text_values)\n",
    "        }\n",
    "\n",
    "        # Append the data to the DataFrame\n",
    "        data = data.append(pd.DataFrame(data_dict), ignore_index=True)\n",
    "\n",
    "\n",
    "print(data)\n",
    "\n",
    "\n",
    "\n"
   ]
  },
  {
   "cell_type": "code",
   "execution_count": 106,
   "metadata": {},
   "outputs": [],
   "source": []
  },
  {
   "cell_type": "code",
   "execution_count": 111,
   "metadata": {},
   "outputs": [],
   "source": []
  }
 ],
 "metadata": {
  "kernelspec": {
   "display_name": "base",
   "language": "python",
   "name": "python3"
  },
  "language_info": {
   "codemirror_mode": {
    "name": "ipython",
    "version": 3
   },
   "file_extension": ".py",
   "mimetype": "text/x-python",
   "name": "python",
   "nbconvert_exporter": "python",
   "pygments_lexer": "ipython3",
   "version": "3.9.13"
  }
 },
 "nbformat": 4,
 "nbformat_minor": 2
}
